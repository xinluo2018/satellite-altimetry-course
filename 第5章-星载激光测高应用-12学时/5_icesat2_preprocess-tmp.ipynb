{
 "cells": [
  {
   "cell_type": "markdown",
   "metadata": {
    "id": "6EyYyCUXljZT"
   },
   "source": [
    "### **ICESat-2数据处理**"
   ]
  },
  {
   "cell_type": "code",
   "execution_count": null,
   "metadata": {
    "id": "AU510TSEljZU"
   },
   "outputs": [
    {
     "data": {
      "text/plain": [
       "1.6800000000000637"
      ]
     },
     "execution_count": 8,
     "metadata": {},
     "output_type": "execute_result"
    }
   ],
   "source": [
    "import h5py\n",
    "import numpy as np\n",
    "# import cartopy.crs as ccrs\n",
    "import matplotlib.pyplot as plt\n",
    "from pyrsimg import readTiff, imgShow, second_to_dyr\n"
   ]
  },
  {
   "cell_type": "code",
   "execution_count": 9,
   "metadata": {
    "id": "1oFaBFr2ljZV"
   },
   "outputs": [],
   "source": [
    "path_atl06 = 'data/laser/processed_ATL06_20200806013350_06370802_006_01.h5'\n",
    "path_rsimg = 'data/rsimg/s2_gla_region_20220707.tif'\n"
   ]
  },
  {
   "cell_type": "code",
   "execution_count": 17,
   "metadata": {
    "colab": {
     "base_uri": "https://localhost:8080/"
    },
    "executionInfo": {
     "elapsed": 1035,
     "status": "ok",
     "timestamp": 1716965707753,
     "user": {
      "displayName": "Xin Luo",
      "userId": "06301970496892076570"
     },
     "user_tz": -480
    },
    "id": "ZLqh0yofljZW",
    "outputId": "fe5b7eba-9d25-450a-c002-3695bf1b5b6e"
   },
   "outputs": [
    {
     "name": "stdout",
     "output_type": "stream",
     "text": [
      "atl06_quality_summary    Dataset {1890/Inf}\n",
      "bias_correction          Group\n",
      "delta_time               Dataset {1890/Inf}\n",
      "dem                      Group\n",
      "fit_statistics           Group\n",
      "geophysical              Group\n",
      "ground_track             Group\n",
      "h_li                     Dataset {1890/Inf}\n",
      "h_li_sigma               Dataset {1890/Inf}\n",
      "latitude                 Dataset {1890/Inf}\n",
      "longitude                Dataset {1890/Inf}\n",
      "segment_id               Dataset {1890/Inf}\n",
      "sigma_geo_h              Dataset {1890/Inf}\n"
     ]
    }
   ],
   "source": [
    "# !h5ls $path_atl06/gt1l\n",
    "!h5ls $path_atl06/gt1l/land_ice_segments\n",
    "# !h5ls $path_atl06/orbit_info\n"
   ]
  },
  {
   "cell_type": "markdown",
   "metadata": {
    "id": "BEHdz1oXljZX"
   },
   "source": [
    "### Visualization"
   ]
  },
  {
   "cell_type": "markdown",
   "metadata": {
    "id": "WCCI07I_C8Ls"
   },
   "source": [
    "#### 读取并合并多波束数据"
   ]
  },
  {
   "cell_type": "code",
   "execution_count": 18,
   "metadata": {},
   "outputs": [
    {
     "name": "stdout",
     "output_type": "stream",
     "text": [
      "(10885,)\n"
     ]
    }
   ],
   "source": [
    "vars_atl06 = {'lat':[], 'lon':[], 'time_delta':[], 'elev':[], 'qual':[]}\n",
    "beams = ['gt1l','gt1r','gt2l','gt2r','gt3l','gt3r']\n",
    "with h5py.File(path_atl06,'r') as atl06:\n",
    "    for beam in beams:\n",
    "        vars_atl06['lat'] += list(atl06[beam+'/land_ice_segments/latitude'][:])\n",
    "        vars_atl06['lon'] += list(atl06[beam+'/land_ice_segments/longitude'][:])\n",
    "        vars_atl06['time_delta'] += list(atl06[beam+'/land_ice_segments/delta_time'][:]) ## Seconds start with the reference sdp time(2018-01-01).\n",
    "        vars_atl06['elev'] += list(atl06[beam+'/land_ice_segments/h_li'][:])\n",
    "        ### quality\n",
    "        vars_atl06['qual'] += list(atl06[beam+'/land_ice_segments/atl06_quality_summary'][:])\n",
    "    vars_atl06['lat'] = np.array(vars_atl06['lat'])\n",
    "    vars_atl06['lon'] = np.array(vars_atl06['lon'])\n",
    "    vars_atl06['time_delta'] = np.array(vars_atl06['time_delta'])\n",
    "    vars_atl06['elev'] = np.array(vars_atl06['elev'])\n",
    "    vars_atl06['qual'] = np.array(vars_atl06['qual'])\n",
    "    print(vars_atl06['lat'].shape)\n",
    "    ## orbit information.\n",
    "    vars_atl06['cycle'] = atl06['orbit_info/cycle_number'][0]\n",
    "    vars_atl06['track'] = atl06['orbit_info/rgt'][0]\n",
    "    vars_atl06['orient'] = atl06['orbit_info/sc_orient'][0]\n",
    "\n",
    "## 2. remote sensing image\n",
    "rsimg = readTiff(path_rsimg)\n"
   ]
  },
  {
   "cell_type": "code",
   "execution_count": 21,
   "metadata": {
    "id": "GIky_Z5ZEifC"
   },
   "outputs": [],
   "source": [
    "region = [94.56, 30.38, 95.04, 30.77]\n",
    "processed_vars_atl06 = {}\n",
    "\n",
    "ids = np.where((vars_atl06['lat']>region[1]) \\\n",
    "                    & (vars_atl06['lat']<region[3]) \\\n",
    "                    & (vars_atl06['lon']>region[0]) \\\n",
    "                    & (vars_atl06['lon']<region[2]) \\\n",
    "                    & (vars_atl06['elev']<9000) \\\n",
    "                    & (vars_atl06['qual']==0))\n",
    "processed_vars_atl06['lat'] = vars_atl06['lat'][ids]\n",
    "processed_vars_atl06['lon'] = vars_atl06['lon'][ids]\n",
    "processed_vars_atl06['elev'] = vars_atl06['elev'][ids]\n",
    "processed_vars_atl06['time_delta'] = vars_atl06['time_delta'][ids]\n",
    "\n",
    "## orbit information\n",
    "processed_vars_atl06['cycle'] = vars_atl06['cycle']\n",
    "processed_vars_atl06['track'] = vars_atl06['track']\n",
    "processed_vars_atl06['orient'] = vars_atl06['orient']\n"
   ]
  },
  {
   "cell_type": "code",
   "execution_count": 22,
   "metadata": {},
   "outputs": [
    {
     "data": {
      "text/plain": [
       "{'lat': array([30.38889779, 30.38907787, 30.38925794, ..., 30.76947773,\n",
       "        30.76965776, 30.76983778], shape=(4269,)),\n",
       " 'lon': array([94.83061495, 94.83059528, 94.83057554, ..., 94.8553529 ,\n",
       "        94.85533286, 94.85531282], shape=(4269,)),\n",
       " 'elev': array([2948.6948, 2950.6106, 2955.1477, ..., 3991.605 , 3991.4717,\n",
       "        3991.2407], shape=(4269,), dtype=float32),\n",
       " 'time_delta': array([81912883.01548333, 81912883.01832423, 81912883.02116695, ...,\n",
       "        81912889.19227107, 81912889.1950888 , 81912889.19790927],\n",
       "       shape=(4269,)),\n",
       " 'cycle': np.int8(8),\n",
       " 'track': np.int16(637),\n",
       " 'orient': np.int8(0)}"
      ]
     },
     "execution_count": 22,
     "metadata": {},
     "output_type": "execute_result"
    }
   ],
   "source": [
    "processed_vars_atl06\n"
   ]
  },
  {
   "cell_type": "code",
   "execution_count": 24,
   "metadata": {
    "colab": {
     "base_uri": "https://localhost:8080/"
    },
    "executionInfo": {
     "elapsed": 1218,
     "status": "ok",
     "timestamp": 1716965734779,
     "user": {
      "displayName": "Xin Luo",
      "userId": "06301970496892076570"
     },
     "user_tz": -480
    },
    "id": "hGVvptcAHrxs",
    "outputId": "b94a75eb-a5bf-49b1-e3d4-cb89f3f58a60"
   },
   "outputs": [
    {
     "name": "stdout",
     "output_type": "stream",
     "text": [
      "转换前： [81912883.01548333 81912883.01832423 81912883.02116695 81912883.02400978\n",
      " 81912883.0268495  81912883.02968517 81912883.03251266 81912883.0353311\n",
      " 81912883.0381452  81912883.04095736]\n",
      "转换后： [2020.5958093 2020.5958093 2020.5958093 2020.5958093 2020.5958093\n",
      " 2020.5958093 2020.5958093 2020.5958093 2020.5958093 2020.5958093]\n"
     ]
    }
   ],
   "source": [
    "### Apply time conversion (seconds to decimal year)\n",
    "### Seconds (from 2018-01-01 00:00:00) to decimal year\n",
    "print('转换前：',processed_vars_atl06['time_delta'][0:10])\n",
    "# for beam in beams:\n",
    "processed_vars_atl06['time_dyr'] = second_to_dyr(processed_vars_atl06['time_delta'], time_start = '2018-01-01 00:00:00')\n",
    "print('转换后：',processed_vars_atl06['time_dyr'][0:10])\n"
   ]
  },
  {
   "cell_type": "markdown",
   "metadata": {
    "id": "IlRA-Yn587QZ"
   },
   "source": [
    "## write out to .h5 file."
   ]
  },
  {
   "cell_type": "code",
   "execution_count": null,
   "metadata": {
    "id": "OcnUOGUx8yOW"
   },
   "outputs": [
    {
     "name": "stdout",
     "output_type": "stream",
     "text": [
      "written file: data/laser/isat2_gla_region.h5\n"
     ]
    }
   ],
   "source": [
    "# file_out = 'data/laser/isat2_gla_region.h5'\n",
    "# with h5py.File(file_out, \"w\") as f_out:\n",
    "#     [f_out.create_dataset(key, data=processed_vars_atl06[key]) for key in processed_vars_atl06.keys()]\n",
    "#     print('written file:', (file_out))\n",
    "\n"
   ]
  }
 ],
 "metadata": {
  "colab": {
   "provenance": []
  },
  "kernelspec": {
   "display_name": "satellite-altimetry-course",
   "language": "python",
   "name": "python3"
  },
  "language_info": {
   "codemirror_mode": {
    "name": "ipython",
    "version": 3
   },
   "file_extension": ".py",
   "mimetype": "text/x-python",
   "name": "python",
   "nbconvert_exporter": "python",
   "pygments_lexer": "ipython3",
   "version": "3.13.2"
  }
 },
 "nbformat": 4,
 "nbformat_minor": 0
}
