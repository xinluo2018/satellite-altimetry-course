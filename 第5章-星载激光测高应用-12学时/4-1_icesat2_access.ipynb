{
 "cells": [
  {
   "cell_type": "markdown",
   "metadata": {
    "id": "jn0CPqzxYojY"
   },
   "source": [
    "### **ICESat-2数据获取**\n",
    "(保持网络通畅)"
   ]
  },
  {
   "cell_type": "code",
   "execution_count": 10,
   "metadata": {
    "executionInfo": {
     "elapsed": 361,
     "status": "ok",
     "timestamp": 1716352551894,
     "user": {
      "displayName": "Xin Luo",
      "userId": "06301970496892076570"
     },
     "user_tz": -480
    },
    "id": "_WI2VyDFYojb"
   },
   "outputs": [],
   "source": [
    "import icepyx as ipx\n",
    "from pprint import pprint\n"
   ]
  },
  {
   "cell_type": "code",
   "execution_count": 11,
   "metadata": {
    "executionInfo": {
     "elapsed": 360,
     "status": "ok",
     "timestamp": 1716352556310,
     "user": {
      "displayName": "Xin Luo",
      "userId": "06301970496892076570"
     },
     "user_tz": -480
    },
    "id": "sfVhhTg-Yojc"
   },
   "outputs": [],
   "source": [
    "## Configure\n",
    "short_name = 'ATL06'\n",
    "spatial_extent = [94.56, 30.38, 95.04, 30.77]   ##  [left, bottom, right, up]\n",
    "date_range = ['2020-08-01','2020-08-31']\n",
    "dir_down_data = 'data/laser'\n"
   ]
  },
  {
   "cell_type": "code",
   "execution_count": 12,
   "metadata": {
    "colab": {
     "base_uri": "https://localhost:8080/",
     "height": 611
    },
    "executionInfo": {
     "elapsed": 1749,
     "status": "ok",
     "timestamp": 1716352616029,
     "user": {
      "displayName": "Xin Luo",
      "userId": "06301970496892076570"
     },
     "user_tz": -480
    },
    "id": "fOO07_Q0Yojd",
    "outputId": "ad23cc2e-d500-47a8-fbd3-ebb9b0d58f3b"
   },
   "outputs": [
    {
     "name": "stdout",
     "output_type": "stream",
     "text": [
      "Product: ATL06\n",
      "Version: 006\n",
      "{'Average size of granules (MB)': np.float64(115.89076042175293),\n",
      " 'Number of available granules': 1,\n",
      " 'Total size of all granules (MB)': 115.89076042175293}\n"
     ]
    }
   ],
   "source": [
    "## data search\n",
    "data_region = ipx.Query(short_name, spatial_extent, date_range)\n",
    "print('Product:', data_region.product)\n",
    "print('Version:', data_region.product_version)\n",
    "pprint(data_region.avail_granules())\n",
    "# data_region.visualize_spatial_extent()\n",
    "\n"
   ]
  },
  {
   "cell_type": "code",
   "execution_count": 13,
   "metadata": {
    "colab": {
     "base_uri": "https://localhost:8080/"
    },
    "executionInfo": {
     "elapsed": 46924,
     "status": "ok",
     "timestamp": 1716352727441,
     "user": {
      "displayName": "Xin Luo",
      "userId": "06301970496892076570"
     },
     "user_tz": -480
    },
    "id": "Xx960nyXYojd",
    "outputId": "ff5c470f-b079-450f-9920-73207dc6807a"
   },
   "outputs": [
    {
     "name": "stdout",
     "output_type": "stream",
     "text": [
      "Total number of data order requests is  1  for  1  granules.\n",
      "Data request  1  of  1  is submitting to NSIDC\n",
      "order ID:  5000006221269\n",
      "Initial status of your order request at NSIDC is:  pending\n",
      "Your order status is still  pending  at NSIDC. Please continue waiting... this may take a few moments.\n",
      "Your order is: complete\n",
      "Beginning download of zipped output...\n",
      "Data request 5000006221269 of  1  order(s) is downloaded.\n",
      "Download complete\n"
     ]
    }
   ],
   "source": [
    "# # Earthdata user login and data download\n",
    "data_region.order_granules(email=False)\n",
    "data_region.download_granules(path=dir_down_data, verbose=False, subset=True)\n",
    "\n"
   ]
  }
 ],
 "metadata": {
  "colab": {
   "provenance": []
  },
  "kernelspec": {
   "display_name": "satellite-altimetry-course",
   "language": "python",
   "name": "python3"
  },
  "language_info": {
   "codemirror_mode": {
    "name": "ipython",
    "version": 3
   },
   "file_extension": ".py",
   "mimetype": "text/x-python",
   "name": "python",
   "nbconvert_exporter": "python",
   "pygments_lexer": "ipython3",
   "version": "3.13.2"
  }
 },
 "nbformat": 4,
 "nbformat_minor": 0
}
